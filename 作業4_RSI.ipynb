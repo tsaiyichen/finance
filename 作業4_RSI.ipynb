{
 "cells": [
  {
   "cell_type": "code",
   "execution_count": 20,
   "id": "38b180dc-c7cf-4dac-aef5-9e42748fdb3a",
   "metadata": {},
   "outputs": [
    {
     "name": "stdout",
     "output_type": "stream",
     "text": [
      "Requirement already satisfied: yfinance in c:\\users\\eason\\anaconda3\\lib\\site-packages (0.2.55)\n",
      "Requirement already satisfied: pandas>=1.3.0 in c:\\users\\eason\\anaconda3\\lib\\site-packages (from yfinance) (2.2.2)\n",
      "Requirement already satisfied: numpy>=1.16.5 in c:\\users\\eason\\anaconda3\\lib\\site-packages (from yfinance) (1.26.4)\n",
      "Requirement already satisfied: requests>=2.31 in c:\\users\\eason\\anaconda3\\lib\\site-packages (from yfinance) (2.32.3)\n",
      "Requirement already satisfied: multitasking>=0.0.7 in c:\\users\\eason\\anaconda3\\lib\\site-packages (from yfinance) (0.0.11)\n",
      "Requirement already satisfied: platformdirs>=2.0.0 in c:\\users\\eason\\anaconda3\\lib\\site-packages (from yfinance) (3.10.0)\n",
      "Requirement already satisfied: pytz>=2022.5 in c:\\users\\eason\\anaconda3\\lib\\site-packages (from yfinance) (2024.1)\n",
      "Requirement already satisfied: frozendict>=2.3.4 in c:\\users\\eason\\anaconda3\\lib\\site-packages (from yfinance) (2.4.2)\n",
      "Requirement already satisfied: peewee>=3.16.2 in c:\\users\\eason\\anaconda3\\lib\\site-packages (from yfinance) (3.17.9)\n",
      "Requirement already satisfied: beautifulsoup4>=4.11.1 in c:\\users\\eason\\anaconda3\\lib\\site-packages (from yfinance) (4.12.3)\n",
      "Requirement already satisfied: soupsieve>1.2 in c:\\users\\eason\\anaconda3\\lib\\site-packages (from beautifulsoup4>=4.11.1->yfinance) (2.5)\n",
      "Requirement already satisfied: python-dateutil>=2.8.2 in c:\\users\\eason\\anaconda3\\lib\\site-packages (from pandas>=1.3.0->yfinance) (2.9.0.post0)\n",
      "Requirement already satisfied: tzdata>=2022.7 in c:\\users\\eason\\anaconda3\\lib\\site-packages (from pandas>=1.3.0->yfinance) (2023.3)\n",
      "Requirement already satisfied: charset-normalizer<4,>=2 in c:\\users\\eason\\anaconda3\\lib\\site-packages (from requests>=2.31->yfinance) (3.3.2)\n",
      "Requirement already satisfied: idna<4,>=2.5 in c:\\users\\eason\\anaconda3\\lib\\site-packages (from requests>=2.31->yfinance) (3.7)\n",
      "Requirement already satisfied: urllib3<3,>=1.21.1 in c:\\users\\eason\\anaconda3\\lib\\site-packages (from requests>=2.31->yfinance) (2.2.3)\n",
      "Requirement already satisfied: certifi>=2017.4.17 in c:\\users\\eason\\anaconda3\\lib\\site-packages (from requests>=2.31->yfinance) (2025.1.31)\n",
      "Requirement already satisfied: six>=1.5 in c:\\users\\eason\\anaconda3\\lib\\site-packages (from python-dateutil>=2.8.2->pandas>=1.3.0->yfinance) (1.16.0)\n",
      "Requirement already satisfied: pandas in c:\\users\\eason\\anaconda3\\lib\\site-packages (2.2.2)\n",
      "Requirement already satisfied: numpy>=1.26.0 in c:\\users\\eason\\anaconda3\\lib\\site-packages (from pandas) (1.26.4)\n",
      "Requirement already satisfied: python-dateutil>=2.8.2 in c:\\users\\eason\\anaconda3\\lib\\site-packages (from pandas) (2.9.0.post0)\n",
      "Requirement already satisfied: pytz>=2020.1 in c:\\users\\eason\\anaconda3\\lib\\site-packages (from pandas) (2024.1)\n",
      "Requirement already satisfied: tzdata>=2022.7 in c:\\users\\eason\\anaconda3\\lib\\site-packages (from pandas) (2023.3)\n",
      "Requirement already satisfied: six>=1.5 in c:\\users\\eason\\anaconda3\\lib\\site-packages (from python-dateutil>=2.8.2->pandas) (1.16.0)\n",
      "Requirement already satisfied: numpy in c:\\users\\eason\\anaconda3\\lib\\site-packages (1.26.4)\n",
      "Processing c:\\users\\eason\\downloads\\ta_lib-0.6.3-cp312-cp312-win_amd64.whl\n",
      "Requirement already satisfied: setuptools in c:\\users\\eason\\anaconda3\\lib\\site-packages (from ta-lib==0.6.3) (75.1.0)\n",
      "Requirement already satisfied: numpy in c:\\users\\eason\\anaconda3\\lib\\site-packages (from ta-lib==0.6.3) (1.26.4)\n",
      "Installing collected packages: ta-lib\n",
      "Successfully installed ta-lib-0.6.3\n"
     ]
    }
   ],
   "source": [
    "!pip install yfinance\n",
    "!pip install pandas\n",
    "!pip install numpy\n",
    "!pip install \"C:\\Users\\eason\\Downloads\\ta_lib-0.6.3-cp312-cp312-win_amd64.whl\""
   ]
  },
  {
   "cell_type": "code",
   "execution_count": 15,
   "id": "2e9feaa44ab01bab",
   "metadata": {},
   "outputs": [],
   "source": [
    "import yfinance as yf\n",
    "import pandas as pd\n",
    "import numpy as np"
   ]
  },
  {
   "cell_type": "code",
   "execution_count": 17,
   "id": "7d4fcd2dbbbd783c",
   "metadata": {},
   "outputs": [
    {
     "name": "stdout",
     "output_type": "stream",
     "text": [
      "YF.download() has changed argument auto_adjust default to True\n"
     ]
    },
    {
     "name": "stderr",
     "output_type": "stream",
     "text": [
      "[*********************100%***********************]  1 of 1 completed\n"
     ]
    },
    {
     "data": {
      "text/html": [
       "<div>\n",
       "<style scoped>\n",
       "    .dataframe tbody tr th:only-of-type {\n",
       "        vertical-align: middle;\n",
       "    }\n",
       "\n",
       "    .dataframe tbody tr th {\n",
       "        vertical-align: top;\n",
       "    }\n",
       "\n",
       "    .dataframe thead tr th {\n",
       "        text-align: left;\n",
       "    }\n",
       "\n",
       "    .dataframe thead tr:last-of-type th {\n",
       "        text-align: right;\n",
       "    }\n",
       "</style>\n",
       "<table border=\"1\" class=\"dataframe\">\n",
       "  <thead>\n",
       "    <tr>\n",
       "      <th>Price</th>\n",
       "      <th>Close</th>\n",
       "      <th>High</th>\n",
       "      <th>Low</th>\n",
       "      <th>Open</th>\n",
       "      <th>Volume</th>\n",
       "    </tr>\n",
       "    <tr>\n",
       "      <th>Ticker</th>\n",
       "      <th>3090.TW</th>\n",
       "      <th>3090.TW</th>\n",
       "      <th>3090.TW</th>\n",
       "      <th>3090.TW</th>\n",
       "      <th>3090.TW</th>\n",
       "    </tr>\n",
       "    <tr>\n",
       "      <th>Date</th>\n",
       "      <th></th>\n",
       "      <th></th>\n",
       "      <th></th>\n",
       "      <th></th>\n",
       "      <th></th>\n",
       "    </tr>\n",
       "  </thead>\n",
       "  <tbody>\n",
       "    <tr>\n",
       "      <th>2024-01-02</th>\n",
       "      <td>55.397804</td>\n",
       "      <td>55.492828</td>\n",
       "      <td>55.017719</td>\n",
       "      <td>55.207760</td>\n",
       "      <td>194676</td>\n",
       "    </tr>\n",
       "    <tr>\n",
       "      <th>2024-01-03</th>\n",
       "      <td>55.017719</td>\n",
       "      <td>55.397805</td>\n",
       "      <td>55.017719</td>\n",
       "      <td>55.397805</td>\n",
       "      <td>271243</td>\n",
       "    </tr>\n",
       "    <tr>\n",
       "      <th>2024-01-04</th>\n",
       "      <td>54.922695</td>\n",
       "      <td>55.112740</td>\n",
       "      <td>54.922695</td>\n",
       "      <td>54.922695</td>\n",
       "      <td>187412</td>\n",
       "    </tr>\n",
       "    <tr>\n",
       "      <th>2024-01-05</th>\n",
       "      <td>54.637630</td>\n",
       "      <td>55.112740</td>\n",
       "      <td>54.637630</td>\n",
       "      <td>55.112740</td>\n",
       "      <td>334137</td>\n",
       "    </tr>\n",
       "    <tr>\n",
       "      <th>2024-01-08</th>\n",
       "      <td>54.162518</td>\n",
       "      <td>54.827672</td>\n",
       "      <td>54.162518</td>\n",
       "      <td>54.637627</td>\n",
       "      <td>376404</td>\n",
       "    </tr>\n",
       "    <tr>\n",
       "      <th>...</th>\n",
       "      <td>...</td>\n",
       "      <td>...</td>\n",
       "      <td>...</td>\n",
       "      <td>...</td>\n",
       "      <td>...</td>\n",
       "    </tr>\n",
       "    <tr>\n",
       "      <th>2025-04-11</th>\n",
       "      <td>60.500000</td>\n",
       "      <td>60.599998</td>\n",
       "      <td>56.200001</td>\n",
       "      <td>59.500000</td>\n",
       "      <td>1922150</td>\n",
       "    </tr>\n",
       "    <tr>\n",
       "      <th>2025-04-14</th>\n",
       "      <td>61.000000</td>\n",
       "      <td>62.500000</td>\n",
       "      <td>60.599998</td>\n",
       "      <td>61.000000</td>\n",
       "      <td>2036358</td>\n",
       "    </tr>\n",
       "    <tr>\n",
       "      <th>2025-04-15</th>\n",
       "      <td>63.000000</td>\n",
       "      <td>63.500000</td>\n",
       "      <td>61.799999</td>\n",
       "      <td>62.000000</td>\n",
       "      <td>1422181</td>\n",
       "    </tr>\n",
       "    <tr>\n",
       "      <th>2025-04-16</th>\n",
       "      <td>61.799999</td>\n",
       "      <td>63.400002</td>\n",
       "      <td>61.799999</td>\n",
       "      <td>63.400002</td>\n",
       "      <td>961162</td>\n",
       "    </tr>\n",
       "    <tr>\n",
       "      <th>2025-04-17</th>\n",
       "      <td>61.099998</td>\n",
       "      <td>62.099998</td>\n",
       "      <td>60.799999</td>\n",
       "      <td>61.599998</td>\n",
       "      <td>692243</td>\n",
       "    </tr>\n",
       "  </tbody>\n",
       "</table>\n",
       "<p>308 rows × 5 columns</p>\n",
       "</div>"
      ],
      "text/plain": [
       "Price           Close       High        Low       Open   Volume\n",
       "Ticker        3090.TW    3090.TW    3090.TW    3090.TW  3090.TW\n",
       "Date                                                           \n",
       "2024-01-02  55.397804  55.492828  55.017719  55.207760   194676\n",
       "2024-01-03  55.017719  55.397805  55.017719  55.397805   271243\n",
       "2024-01-04  54.922695  55.112740  54.922695  54.922695   187412\n",
       "2024-01-05  54.637630  55.112740  54.637630  55.112740   334137\n",
       "2024-01-08  54.162518  54.827672  54.162518  54.637627   376404\n",
       "...               ...        ...        ...        ...      ...\n",
       "2025-04-11  60.500000  60.599998  56.200001  59.500000  1922150\n",
       "2025-04-14  61.000000  62.500000  60.599998  61.000000  2036358\n",
       "2025-04-15  63.000000  63.500000  61.799999  62.000000  1422181\n",
       "2025-04-16  61.799999  63.400002  61.799999  63.400002   961162\n",
       "2025-04-17  61.099998  62.099998  60.799999  61.599998   692243\n",
       "\n",
       "[308 rows x 5 columns]"
      ]
     },
     "execution_count": 17,
     "metadata": {},
     "output_type": "execute_result"
    }
   ],
   "source": [
    "df = yf.download(\"3090.TW\", \"2024-01-01\")\n",
    "df"
   ]
  },
  {
   "cell_type": "code",
   "execution_count": 21,
   "id": "ab778fed0f6bf52f",
   "metadata": {
    "ExecuteTime": {
     "end_time": "2025-04-10T13:20:52.030190Z",
     "start_time": "2025-04-10T13:20:52.019209Z"
    }
   },
   "outputs": [],
   "source": [
    "import talib"
   ]
  },
  {
   "cell_type": "code",
   "execution_count": 22,
   "id": "5b96b5d0fcb93f14",
   "metadata": {
    "ExecuteTime": {
     "end_time": "2025-04-10T13:20:52.063624Z",
     "start_time": "2025-04-10T13:20:52.057810Z"
    }
   },
   "outputs": [
    {
     "data": {
      "text/html": [
       "<div>\n",
       "<style scoped>\n",
       "    .dataframe tbody tr th:only-of-type {\n",
       "        vertical-align: middle;\n",
       "    }\n",
       "\n",
       "    .dataframe tbody tr th {\n",
       "        vertical-align: top;\n",
       "    }\n",
       "\n",
       "    .dataframe thead th {\n",
       "        text-align: right;\n",
       "    }\n",
       "</style>\n",
       "<table border=\"1\" class=\"dataframe\">\n",
       "  <thead>\n",
       "    <tr style=\"text-align: right;\">\n",
       "      <th>Ticker</th>\n",
       "      <th>3090.TW</th>\n",
       "    </tr>\n",
       "    <tr>\n",
       "      <th>Date</th>\n",
       "      <th></th>\n",
       "    </tr>\n",
       "  </thead>\n",
       "  <tbody>\n",
       "    <tr>\n",
       "      <th>2024-01-02</th>\n",
       "      <td>55.397804</td>\n",
       "    </tr>\n",
       "    <tr>\n",
       "      <th>2024-01-03</th>\n",
       "      <td>55.017719</td>\n",
       "    </tr>\n",
       "    <tr>\n",
       "      <th>2024-01-04</th>\n",
       "      <td>54.922695</td>\n",
       "    </tr>\n",
       "    <tr>\n",
       "      <th>2024-01-05</th>\n",
       "      <td>54.637630</td>\n",
       "    </tr>\n",
       "    <tr>\n",
       "      <th>2024-01-08</th>\n",
       "      <td>54.162518</td>\n",
       "    </tr>\n",
       "    <tr>\n",
       "      <th>...</th>\n",
       "      <td>...</td>\n",
       "    </tr>\n",
       "    <tr>\n",
       "      <th>2025-04-11</th>\n",
       "      <td>60.500000</td>\n",
       "    </tr>\n",
       "    <tr>\n",
       "      <th>2025-04-14</th>\n",
       "      <td>61.000000</td>\n",
       "    </tr>\n",
       "    <tr>\n",
       "      <th>2025-04-15</th>\n",
       "      <td>63.000000</td>\n",
       "    </tr>\n",
       "    <tr>\n",
       "      <th>2025-04-16</th>\n",
       "      <td>61.799999</td>\n",
       "    </tr>\n",
       "    <tr>\n",
       "      <th>2025-04-17</th>\n",
       "      <td>61.099998</td>\n",
       "    </tr>\n",
       "  </tbody>\n",
       "</table>\n",
       "<p>308 rows × 1 columns</p>\n",
       "</div>"
      ],
      "text/plain": [
       "Ticker        3090.TW\n",
       "Date                 \n",
       "2024-01-02  55.397804\n",
       "2024-01-03  55.017719\n",
       "2024-01-04  54.922695\n",
       "2024-01-05  54.637630\n",
       "2024-01-08  54.162518\n",
       "...               ...\n",
       "2025-04-11  60.500000\n",
       "2025-04-14  61.000000\n",
       "2025-04-15  63.000000\n",
       "2025-04-16  61.799999\n",
       "2025-04-17  61.099998\n",
       "\n",
       "[308 rows x 1 columns]"
      ]
     },
     "execution_count": 22,
     "metadata": {},
     "output_type": "execute_result"
    }
   ],
   "source": [
    "type(df.Close)\n",
    "df.Close"
   ]
  },
  {
   "cell_type": "code",
   "execution_count": 23,
   "id": "e302b09bfe0d5f91",
   "metadata": {
    "ExecuteTime": {
     "end_time": "2025-04-10T13:20:52.138253Z",
     "start_time": "2025-04-10T13:20:52.134924Z"
    }
   },
   "outputs": [],
   "source": [
    "Close_Arr = df['Close']['3090.TW'].to_numpy()"
   ]
  },
  {
   "cell_type": "code",
   "execution_count": 28,
   "id": "97cf0cc96a127c7",
   "metadata": {
    "ExecuteTime": {
     "end_time": "2025-04-10T13:20:52.213629Z",
     "start_time": "2025-04-10T13:20:52.211439Z"
    }
   },
   "outputs": [],
   "source": [
    "RSI = talib.RSI(Close_Arr, timeperiod=14)"
   ]
  },
  {
   "cell_type": "code",
   "execution_count": 30,
   "id": "5c868d7d1ba7d861",
   "metadata": {
    "ExecuteTime": {
     "end_time": "2025-04-10T13:20:52.264626Z",
     "start_time": "2025-04-10T13:20:52.260368Z"
    }
   },
   "outputs": [
    {
     "data": {
      "text/plain": [
       "array([        nan,         nan,         nan,         nan,         nan,\n",
       "               nan,         nan,         nan,         nan,         nan,\n",
       "               nan,         nan,         nan,         nan, 22.85718218,\n",
       "       38.09522933, 38.09522933, 37.03467569, 33.0690203 , 34.94449333,\n",
       "       32.95549302, 32.95549302, 40.7747004 , 37.26445599, 36.14734073,\n",
       "       63.35608458, 64.762187  , 63.4511668 , 63.4511668 , 65.85607112,\n",
       "       73.39669744, 75.35085349, 77.15778707, 78.82913885, 83.14546174,\n",
       "       70.11853098, 65.1238829 , 66.16215801, 66.16215801, 51.84238147,\n",
       "       44.68229668, 44.08616983, 49.19565148, 51.25165436, 51.94971611,\n",
       "       46.88830878, 51.93179354, 54.58567387, 50.11600071, 52.22255099,\n",
       "       48.54318154, 50.05890439, 45.05642736, 45.88833258, 46.75654364,\n",
       "       48.53503612, 58.8874511 , 57.11976834, 51.31388928, 56.11739818,\n",
       "       58.0286525 , 56.26916141, 54.4898781 , 57.39178004, 50.46151705,\n",
       "       42.224991  , 46.16774344, 44.84929979, 39.39697156, 39.39697156,\n",
       "       41.23808311, 47.27548205, 49.66247962, 49.66247962, 59.56921542,\n",
       "       57.81859128, 57.81859128, 67.72030549, 77.2891188 , 80.23382578,\n",
       "       74.99766447, 78.64294309, 71.9936024 , 68.85864263, 69.1479964 ,\n",
       "       67.13268038, 70.79880634, 71.08820333, 73.87647028, 70.22951737,\n",
       "       73.34683746, 67.78745633, 72.54901768, 70.56667084, 70.56667084,\n",
       "       71.47075276, 60.75265324, 59.5504441 , 61.59640532, 62.81185786,\n",
       "       60.74154193, 59.3374364 , 61.26598189, 54.95096193, 50.01581668,\n",
       "       54.42386935, 57.92064359, 58.41159539, 56.28995515, 52.844907  ,\n",
       "       52.844907  , 55.97013102, 57.19225725, 53.96596786, 53.96596786,\n",
       "       42.31264317, 43.94217136, 47.15717833, 42.55734858, 49.3923373 ,\n",
       "       49.3923373 , 56.1204526 , 46.74981664, 44.46533098, 42.24234324,\n",
       "       47.85705941, 44.37300373, 43.80067567, 61.46472652, 56.27014207,\n",
       "       49.73210326, 44.97073411, 38.78979791, 42.3061159 , 41.57130463,\n",
       "       40.07221854, 43.37096836, 53.85658275, 55.02630884, 50.43655014,\n",
       "       36.1491149 , 37.02240564, 50.22017767, 47.25760745, 48.88137645,\n",
       "       48.88137645, 48.53479101, 49.30891962, 49.30891962, 50.17807522,\n",
       "       48.82572897, 48.82572897, 47.82906971, 46.80026959, 46.80026959,\n",
       "       48.09511137, 48.09511137, 47.42576228, 49.68798278, 50.45328804,\n",
       "       48.85274765, 48.85274765, 35.239253  , 33.79060887, 45.79024904,\n",
       "       42.99312896, 41.36060408, 42.91680342, 46.00321726, 49.6667339 ,\n",
       "       50.39168609, 46.10131172, 48.46396102, 49.26237055, 50.09495302,\n",
       "       52.60752185, 55.04500519, 55.85993019, 56.7051327 , 50.46160194,\n",
       "       46.76482392, 44.15230805, 54.24555782, 55.04103291, 50.32935099,\n",
       "       47.69141401, 54.53487207, 56.08181322, 49.70703892, 52.21401192,\n",
       "       46.40181327, 44.13436897, 48.63909974, 47.80879037, 46.94570935,\n",
       "       46.94570935, 41.70659241, 40.10011724, 38.50295845, 39.79418912,\n",
       "       37.26628497, 37.26628497, 38.76994002, 53.25079679, 58.53160189,\n",
       "       62.34851742, 57.76760648, 58.58679731, 81.95626023, 72.06696192,\n",
       "       59.84611198, 60.82176816, 61.16053031, 64.16387794, 65.13175125,\n",
       "       77.81961982, 71.63440778, 65.9862578 , 73.9754893 , 68.79222676,\n",
       "       65.6096082 , 60.27115156, 71.28098906, 68.08779059, 62.09636664,\n",
       "       55.62685905, 52.56855277, 52.96637081, 52.96637081, 48.92143681,\n",
       "       46.23719202, 47.01983496, 48.88943028, 46.61192474, 46.09798586,\n",
       "       47.95200137, 47.36715264, 52.93135674, 53.51932439, 53.51932439,\n",
       "       50.93651066, 52.35156465, 47.88921351, 45.12754248, 47.56965496,\n",
       "       45.7426829 , 44.63499417, 39.48634489, 39.48634489, 33.50924431,\n",
       "       40.75288328, 39.81855368, 39.49352622, 41.5488516 , 43.61163179,\n",
       "       48.50438375, 47.1817249 , 42.59524909, 42.19369979, 54.98887443,\n",
       "       56.82661625, 66.53738345, 67.72201742, 70.21982137, 65.73751929,\n",
       "       67.7105555 , 60.23906754, 59.79497457, 58.40388724, 56.06292466,\n",
       "       57.5295393 , 58.27940209, 58.67230989, 52.30632262, 55.34971208,\n",
       "       54.28390233, 49.18413168, 51.1606279 , 50.63044612, 50.63044612,\n",
       "       53.42910226, 56.10860616, 50.47864501, 57.60490239, 58.06904696,\n",
       "       64.72377883, 67.17804434, 69.46582848, 68.00725085, 68.71468106,\n",
       "       58.89720248, 49.17014781, 47.30067632, 48.87079443, 50.46035082,\n",
       "       44.06706138, 33.78397679, 38.07677973, 53.19141774, 35.19075674,\n",
       "       28.42775184, 23.29809545, 36.80628165, 36.42941713, 37.57663272,\n",
       "       42.07927565, 40.2053994 , 39.11125148])"
      ]
     },
     "execution_count": 30,
     "metadata": {},
     "output_type": "execute_result"
    }
   ],
   "source": [
    "RSI"
   ]
  },
  {
   "cell_type": "code",
   "execution_count": 32,
   "id": "c196edd0f1e39dc",
   "metadata": {
    "ExecuteTime": {
     "end_time": "2025-04-10T13:56:12.954003Z",
     "start_time": "2025-04-10T13:56:12.951156Z"
    }
   },
   "outputs": [],
   "source": [
    "RSI_df = pd.DataFrame(RSI, columns=['RSI'], index=df.index)"
   ]
  },
  {
   "cell_type": "code",
   "execution_count": 34,
   "id": "ac8facb90e717f2e",
   "metadata": {
    "ExecuteTime": {
     "end_time": "2025-04-10T13:56:20.519257Z",
     "start_time": "2025-04-10T13:56:20.513817Z"
    }
   },
   "outputs": [
    {
     "data": {
      "text/html": [
       "<div>\n",
       "<style scoped>\n",
       "    .dataframe tbody tr th:only-of-type {\n",
       "        vertical-align: middle;\n",
       "    }\n",
       "\n",
       "    .dataframe tbody tr th {\n",
       "        vertical-align: top;\n",
       "    }\n",
       "\n",
       "    .dataframe thead th {\n",
       "        text-align: right;\n",
       "    }\n",
       "</style>\n",
       "<table border=\"1\" class=\"dataframe\">\n",
       "  <thead>\n",
       "    <tr style=\"text-align: right;\">\n",
       "      <th></th>\n",
       "      <th>RSI</th>\n",
       "    </tr>\n",
       "    <tr>\n",
       "      <th>Date</th>\n",
       "      <th></th>\n",
       "    </tr>\n",
       "  </thead>\n",
       "  <tbody>\n",
       "    <tr>\n",
       "      <th>2024-01-02</th>\n",
       "      <td>NaN</td>\n",
       "    </tr>\n",
       "    <tr>\n",
       "      <th>2024-01-03</th>\n",
       "      <td>NaN</td>\n",
       "    </tr>\n",
       "    <tr>\n",
       "      <th>2024-01-04</th>\n",
       "      <td>NaN</td>\n",
       "    </tr>\n",
       "    <tr>\n",
       "      <th>2024-01-05</th>\n",
       "      <td>NaN</td>\n",
       "    </tr>\n",
       "    <tr>\n",
       "      <th>2024-01-08</th>\n",
       "      <td>NaN</td>\n",
       "    </tr>\n",
       "    <tr>\n",
       "      <th>...</th>\n",
       "      <td>...</td>\n",
       "    </tr>\n",
       "    <tr>\n",
       "      <th>2025-04-11</th>\n",
       "      <td>36.429417</td>\n",
       "    </tr>\n",
       "    <tr>\n",
       "      <th>2025-04-14</th>\n",
       "      <td>37.576633</td>\n",
       "    </tr>\n",
       "    <tr>\n",
       "      <th>2025-04-15</th>\n",
       "      <td>42.079276</td>\n",
       "    </tr>\n",
       "    <tr>\n",
       "      <th>2025-04-16</th>\n",
       "      <td>40.205399</td>\n",
       "    </tr>\n",
       "    <tr>\n",
       "      <th>2025-04-17</th>\n",
       "      <td>39.111251</td>\n",
       "    </tr>\n",
       "  </tbody>\n",
       "</table>\n",
       "<p>308 rows × 1 columns</p>\n",
       "</div>"
      ],
      "text/plain": [
       "                  RSI\n",
       "Date                 \n",
       "2024-01-02        NaN\n",
       "2024-01-03        NaN\n",
       "2024-01-04        NaN\n",
       "2024-01-05        NaN\n",
       "2024-01-08        NaN\n",
       "...               ...\n",
       "2025-04-11  36.429417\n",
       "2025-04-14  37.576633\n",
       "2025-04-15  42.079276\n",
       "2025-04-16  40.205399\n",
       "2025-04-17  39.111251\n",
       "\n",
       "[308 rows x 1 columns]"
      ]
     },
     "execution_count": 34,
     "metadata": {},
     "output_type": "execute_result"
    }
   ],
   "source": [
    "RSI_df"
   ]
  },
  {
   "cell_type": "code",
   "execution_count": 36,
   "id": "106ddd83255dd4cf",
   "metadata": {
    "ExecuteTime": {
     "end_time": "2025-04-10T13:32:46.367007Z",
     "start_time": "2025-04-10T13:32:46.364493Z"
    }
   },
   "outputs": [],
   "source": [
    "buy_in_list = []\n",
    "sell_out_list = []"
   ]
  },
  {
   "cell_type": "code",
   "execution_count": 38,
   "id": "17f729dda8e727ff",
   "metadata": {
    "ExecuteTime": {
     "end_time": "2025-04-10T13:58:56.258609Z",
     "start_time": "2025-04-10T13:58:56.248155Z"
    }
   },
   "outputs": [],
   "source": [
    "for index, row in RSI_df.iterrows():\n",
    "    if pd.notna(row['RSI']):\n",
    "        # overbought\n",
    "        if row['RSI'] > 70:\n",
    "            sell_out_list.append(row)\n",
    "        # oversold\n",
    "        elif row['RSI'] < 30:\n",
    "            buy_in_list.append(row)\n",
    "    else:\n",
    "        continue"
   ]
  },
  {
   "cell_type": "code",
   "execution_count": 40,
   "id": "aa705a0bce5a45e3",
   "metadata": {
    "ExecuteTime": {
     "end_time": "2025-04-10T14:00:19.898030Z",
     "start_time": "2025-04-10T14:00:19.893635Z"
    }
   },
   "outputs": [],
   "source": [
    "sell_df = pd.DataFrame(sell_out_list)\n",
    "buy_df = pd.DataFrame(buy_in_list)"
   ]
  },
  {
   "cell_type": "code",
   "execution_count": 42,
   "id": "7eb47ae99e32c35f",
   "metadata": {
    "ExecuteTime": {
     "end_time": "2025-04-10T14:00:20.873428Z",
     "start_time": "2025-04-10T14:00:20.867645Z"
    }
   },
   "outputs": [
    {
     "name": "stdout",
     "output_type": "stream",
     "text": [
      "sell out signal: \n"
     ]
    },
    {
     "data": {
      "text/html": [
       "<div>\n",
       "<style scoped>\n",
       "    .dataframe tbody tr th:only-of-type {\n",
       "        vertical-align: middle;\n",
       "    }\n",
       "\n",
       "    .dataframe tbody tr th {\n",
       "        vertical-align: top;\n",
       "    }\n",
       "\n",
       "    .dataframe thead th {\n",
       "        text-align: right;\n",
       "    }\n",
       "</style>\n",
       "<table border=\"1\" class=\"dataframe\">\n",
       "  <thead>\n",
       "    <tr style=\"text-align: right;\">\n",
       "      <th></th>\n",
       "      <th>RSI</th>\n",
       "    </tr>\n",
       "  </thead>\n",
       "  <tbody>\n",
       "    <tr>\n",
       "      <th>2024-02-22</th>\n",
       "      <td>73.396697</td>\n",
       "    </tr>\n",
       "    <tr>\n",
       "      <th>2024-02-23</th>\n",
       "      <td>75.350853</td>\n",
       "    </tr>\n",
       "    <tr>\n",
       "      <th>2024-02-26</th>\n",
       "      <td>77.157787</td>\n",
       "    </tr>\n",
       "    <tr>\n",
       "      <th>2024-02-27</th>\n",
       "      <td>78.829139</td>\n",
       "    </tr>\n",
       "    <tr>\n",
       "      <th>2024-02-29</th>\n",
       "      <td>83.145462</td>\n",
       "    </tr>\n",
       "    <tr>\n",
       "      <th>2024-03-01</th>\n",
       "      <td>70.118531</td>\n",
       "    </tr>\n",
       "    <tr>\n",
       "      <th>2024-05-06</th>\n",
       "      <td>77.289119</td>\n",
       "    </tr>\n",
       "    <tr>\n",
       "      <th>2024-05-07</th>\n",
       "      <td>80.233826</td>\n",
       "    </tr>\n",
       "    <tr>\n",
       "      <th>2024-05-08</th>\n",
       "      <td>74.997664</td>\n",
       "    </tr>\n",
       "    <tr>\n",
       "      <th>2024-05-09</th>\n",
       "      <td>78.642943</td>\n",
       "    </tr>\n",
       "    <tr>\n",
       "      <th>2024-05-10</th>\n",
       "      <td>71.993602</td>\n",
       "    </tr>\n",
       "    <tr>\n",
       "      <th>2024-05-16</th>\n",
       "      <td>70.798806</td>\n",
       "    </tr>\n",
       "    <tr>\n",
       "      <th>2024-05-17</th>\n",
       "      <td>71.088203</td>\n",
       "    </tr>\n",
       "    <tr>\n",
       "      <th>2024-05-20</th>\n",
       "      <td>73.876470</td>\n",
       "    </tr>\n",
       "    <tr>\n",
       "      <th>2024-05-21</th>\n",
       "      <td>70.229517</td>\n",
       "    </tr>\n",
       "    <tr>\n",
       "      <th>2024-05-22</th>\n",
       "      <td>73.346837</td>\n",
       "    </tr>\n",
       "    <tr>\n",
       "      <th>2024-05-24</th>\n",
       "      <td>72.549018</td>\n",
       "    </tr>\n",
       "    <tr>\n",
       "      <th>2024-05-27</th>\n",
       "      <td>70.566671</td>\n",
       "    </tr>\n",
       "    <tr>\n",
       "      <th>2024-05-28</th>\n",
       "      <td>70.566671</td>\n",
       "    </tr>\n",
       "    <tr>\n",
       "      <th>2024-05-29</th>\n",
       "      <td>71.470753</td>\n",
       "    </tr>\n",
       "    <tr>\n",
       "      <th>2024-11-14</th>\n",
       "      <td>81.956260</td>\n",
       "    </tr>\n",
       "    <tr>\n",
       "      <th>2024-11-15</th>\n",
       "      <td>72.066962</td>\n",
       "    </tr>\n",
       "    <tr>\n",
       "      <th>2024-11-25</th>\n",
       "      <td>77.819620</td>\n",
       "    </tr>\n",
       "    <tr>\n",
       "      <th>2024-11-26</th>\n",
       "      <td>71.634408</td>\n",
       "    </tr>\n",
       "    <tr>\n",
       "      <th>2024-11-28</th>\n",
       "      <td>73.975489</td>\n",
       "    </tr>\n",
       "    <tr>\n",
       "      <th>2024-12-04</th>\n",
       "      <td>71.280989</td>\n",
       "    </tr>\n",
       "    <tr>\n",
       "      <th>2025-02-11</th>\n",
       "      <td>70.219821</td>\n",
       "    </tr>\n",
       "  </tbody>\n",
       "</table>\n",
       "</div>"
      ],
      "text/plain": [
       "                  RSI\n",
       "2024-02-22  73.396697\n",
       "2024-02-23  75.350853\n",
       "2024-02-26  77.157787\n",
       "2024-02-27  78.829139\n",
       "2024-02-29  83.145462\n",
       "2024-03-01  70.118531\n",
       "2024-05-06  77.289119\n",
       "2024-05-07  80.233826\n",
       "2024-05-08  74.997664\n",
       "2024-05-09  78.642943\n",
       "2024-05-10  71.993602\n",
       "2024-05-16  70.798806\n",
       "2024-05-17  71.088203\n",
       "2024-05-20  73.876470\n",
       "2024-05-21  70.229517\n",
       "2024-05-22  73.346837\n",
       "2024-05-24  72.549018\n",
       "2024-05-27  70.566671\n",
       "2024-05-28  70.566671\n",
       "2024-05-29  71.470753\n",
       "2024-11-14  81.956260\n",
       "2024-11-15  72.066962\n",
       "2024-11-25  77.819620\n",
       "2024-11-26  71.634408\n",
       "2024-11-28  73.975489\n",
       "2024-12-04  71.280989\n",
       "2025-02-11  70.219821"
      ]
     },
     "execution_count": 42,
     "metadata": {},
     "output_type": "execute_result"
    }
   ],
   "source": [
    "print(\"sell out signal: \")\n",
    "sell_df"
   ]
  },
  {
   "cell_type": "code",
   "execution_count": 44,
   "id": "493d7255b1d2d2ae",
   "metadata": {
    "ExecuteTime": {
     "end_time": "2025-04-10T14:00:43.213008Z",
     "start_time": "2025-04-10T14:00:43.207574Z"
    }
   },
   "outputs": [
    {
     "name": "stdout",
     "output_type": "stream",
     "text": [
      "buy in signal: \n"
     ]
    },
    {
     "data": {
      "text/html": [
       "<div>\n",
       "<style scoped>\n",
       "    .dataframe tbody tr th:only-of-type {\n",
       "        vertical-align: middle;\n",
       "    }\n",
       "\n",
       "    .dataframe tbody tr th {\n",
       "        vertical-align: top;\n",
       "    }\n",
       "\n",
       "    .dataframe thead th {\n",
       "        text-align: right;\n",
       "    }\n",
       "</style>\n",
       "<table border=\"1\" class=\"dataframe\">\n",
       "  <thead>\n",
       "    <tr style=\"text-align: right;\">\n",
       "      <th></th>\n",
       "      <th>RSI</th>\n",
       "    </tr>\n",
       "  </thead>\n",
       "  <tbody>\n",
       "    <tr>\n",
       "      <th>2024-01-22</th>\n",
       "      <td>22.857182</td>\n",
       "    </tr>\n",
       "    <tr>\n",
       "      <th>2025-04-08</th>\n",
       "      <td>28.427752</td>\n",
       "    </tr>\n",
       "    <tr>\n",
       "      <th>2025-04-09</th>\n",
       "      <td>23.298095</td>\n",
       "    </tr>\n",
       "  </tbody>\n",
       "</table>\n",
       "</div>"
      ],
      "text/plain": [
       "                  RSI\n",
       "2024-01-22  22.857182\n",
       "2025-04-08  28.427752\n",
       "2025-04-09  23.298095"
      ]
     },
     "execution_count": 44,
     "metadata": {},
     "output_type": "execute_result"
    }
   ],
   "source": [
    "print(\"buy in signal: \")\n",
    "buy_df"
   ]
  }
 ],
 "metadata": {
  "kernelspec": {
   "display_name": "Python [conda env:base] *",
   "language": "python",
   "name": "conda-base-py"
  },
  "language_info": {
   "codemirror_mode": {
    "name": "ipython",
    "version": 3
   },
   "file_extension": ".py",
   "mimetype": "text/x-python",
   "name": "python",
   "nbconvert_exporter": "python",
   "pygments_lexer": "ipython3",
   "version": "3.12.7"
  }
 },
 "nbformat": 4,
 "nbformat_minor": 5
}
