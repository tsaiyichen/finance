{
 "cells": [
  {
   "cell_type": "code",
   "id": "initial_id",
   "metadata": {
    "collapsed": true,
    "ExecuteTime": {
     "end_time": "2025-04-08T16:53:19.923753Z",
     "start_time": "2025-04-08T16:53:13.804508Z"
    }
   },
   "source": "!pip install C:\\Users\\eason\\Downloads\\ta_lib-0.6.3-cp312-cp312-win_amd64.whl",
   "outputs": [
    {
     "name": "stdout",
     "output_type": "stream",
     "text": [
      "Processing c:\\users\\eason\\downloads\\ta_lib-0.6.3-cp312-cp312-win_amd64.whl\n",
      "Requirement already satisfied: setuptools in c:\\users\\eason\\miniconda3\\envs\\finance\\lib\\site-packages (from ta-lib==0.6.3) (75.8.0)\n",
      "Collecting numpy (from ta-lib==0.6.3)\n",
      "  Using cached numpy-2.2.4-cp312-cp312-win_amd64.whl.metadata (60 kB)\n",
      "Using cached numpy-2.2.4-cp312-cp312-win_amd64.whl (12.6 MB)\n",
      "Installing collected packages: numpy, ta-lib\n",
      "Successfully installed numpy-2.2.4 ta-lib-0.6.3\n"
     ]
    }
   ],
   "execution_count": 1
  },
  {
   "metadata": {
    "ExecuteTime": {
     "end_time": "2025-04-08T16:54:26.781067Z",
     "start_time": "2025-04-08T16:54:26.693107Z"
    }
   },
   "cell_type": "code",
   "source": "import talib",
   "id": "27fdffd7405ecc8c",
   "outputs": [],
   "execution_count": 3
  }
 ],
 "metadata": {
  "kernelspec": {
   "display_name": "Python 3",
   "language": "python",
   "name": "python3"
  },
  "language_info": {
   "codemirror_mode": {
    "name": "ipython",
    "version": 2
   },
   "file_extension": ".py",
   "mimetype": "text/x-python",
   "name": "python",
   "nbconvert_exporter": "python",
   "pygments_lexer": "ipython2",
   "version": "2.7.6"
  }
 },
 "nbformat": 4,
 "nbformat_minor": 5
}
